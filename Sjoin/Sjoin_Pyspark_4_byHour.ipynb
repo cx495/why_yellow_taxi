{
 "cells": [
  {
   "cell_type": "markdown",
   "metadata": {},
   "source": [
    "## df_shuffle.csv\n"
   ]
  },
  {
   "cell_type": "markdown",
   "metadata": {},
   "source": [
    "| Hour of Day | Index |\n",
    "| ----------- | ----- |\n",
    "| 00:00       | 0     |\n",
    "| 01:00       | 1     |\n",
    "| ...         | ...   |\n",
    "| 23:00       | 23    |"
   ]
  },
  {
   "cell_type": "code",
   "execution_count": 4,
   "metadata": {
    "collapsed": false
   },
   "outputs": [
    {
     "data": {
      "text/plain": [
       "<pyspark.context.SparkContext at 0x1032cf5d0>"
      ]
     },
     "execution_count": 4,
     "metadata": {},
     "output_type": "execute_result"
    }
   ],
   "source": [
    "sc"
   ]
  },
  {
   "cell_type": "code",
   "execution_count": 11,
   "metadata": {
    "collapsed": true
   },
   "outputs": [],
   "source": [
    "import pyproj\n",
    "import csv\n",
    "import shapely.geometry as geom\n",
    "import fiona\n",
    "import fiona.crs\n",
    "import shapely\n",
    "import rtree\n",
    "import geopandas as gpd\n",
    "import numpy as np\n",
    "import operator\n",
    "# just for display, not for calculation\n",
    "import pandas as pd\n",
    "import datetime"
   ]
  },
  {
   "cell_type": "code",
   "execution_count": 12,
   "metadata": {
    "collapsed": false
   },
   "outputs": [],
   "source": [
    "# df = pd.read_csv('./df_shuffle.csv')\n",
    "# df.head(10)\n",
    "\n",
    "# def wkd(time):\n",
    "#     return datetime.datetime.strptime(time, '%Y-%m-%d %H:%M:%S').weekday()\n",
    "\n",
    "# wkd(df.tpep_pickup_datetime[0])\n",
    "# pd.to_datetime(df.tpep_pickup_datetime).map(lambda x: x.weekday())"
   ]
  },
  {
   "cell_type": "markdown",
   "metadata": {},
   "source": [
    "# Function"
   ]
  },
  {
   "cell_type": "code",
   "execution_count": 13,
   "metadata": {
    "collapsed": true
   },
   "outputs": [],
   "source": [
    "def countLine(partID, records):\n",
    "    import pyproj\n",
    "    import csv\n",
    "    import shapely.geometry as geom\n",
    "    import fiona\n",
    "    import fiona.crs\n",
    "    import shapely\n",
    "    import rtree\n",
    "    import geopandas as gpd\n",
    "    import numpy as np\n",
    "    import operator\n",
    "    import pandas as pd\n",
    "    import datetime\n",
    "    \n",
    "    shapefile = '/Users/chunqingxu/Documents/Spring2017/BDMA/Project/why_yellow_taxi/Buffer/entr_buffer_100_feet_epsg4269_nad83/entr_buffer_100_feet_epsg4269_nad83.shp'\n",
    "    entr_buf = gpd.read_file(shapefile)\n",
    "    entr_buf = entr_buf.to_crs(fiona.crs.from_epsg(2263))\n",
    "    \n",
    "    routes = ['Route_' + str(n) for n in range(1, 12)]\n",
    "    entr2line = []\n",
    "    for i in xrange(len(entr_buf)):\n",
    "        lines = []\n",
    "        for line in list(entr_buf.loc[:,routes].ix[i].dropna().values):\n",
    "            try:\n",
    "                line = str(int(line))\n",
    "            except ValueError:\n",
    "                pass\n",
    "            lines.append(line)\n",
    "        entr2line.append(lines)\n",
    "    entr_buf['entr2line'] = entr2line\n",
    "    \n",
    "    index = rtree.Rtree()\n",
    "    for idx, geometry in enumerate(entr_buf.geometry):\n",
    "        index.insert(idx, geometry.bounds)\n",
    "    \n",
    "\n",
    "    entr_pair = {}\n",
    "    pick_entr = {}\n",
    "    drop_entr = {}\n",
    "    entr_lines = {}\n",
    "    \n",
    "    proj = pyproj.Proj(init='epsg:2263', preserve_units=True)\n",
    "    \n",
    "    if partID==0:\n",
    "        records.next()\n",
    "    reader = csv.reader(records)\n",
    "    for row in reader:\n",
    "        if ((float(row[5])!=0) and float(row[9]!=0)):\n",
    "            if row[1]:\n",
    "                h = datetime.datetime.strptime(row[1], '%Y-%m-%d %H:%M:%S').hour\n",
    "            else:\n",
    "                h = None\n",
    "    \n",
    "            p = geom.Point(proj(float(row[5]), float(row[6])))\n",
    "            d = geom.Point(proj(float(row[9]), float(row[10])))\n",
    "            p_potential = index.intersection((p.x,p.y,p.x,p.y))\n",
    "            d_potential = index.intersection((d.x,d.y,d.x,d.y))\n",
    "            p_match = None # The first one match, should be the closest one? No!\n",
    "            d_match = None\n",
    "            \n",
    "            for p_idx in p_potential:\n",
    "                if entr_buf.geometry[p_idx].contains(p):\n",
    "                    p_match = p_idx # print 'p',p_idx\n",
    "                    p_lines = set(entr_buf.entr2line[p_idx])\n",
    "                    break\n",
    "            pick_entr[p_match] = pick_entr.get(p_match, 0)+1\n",
    "            \n",
    "            for d_idx in d_potential:\n",
    "                if entr_buf.geometry[d_idx].contains(d):\n",
    "                    d_match = d_idx # print 'd',d_idx\n",
    "                    d_lines = set(entr_buf.entr2line[d_idx])\n",
    "                    break\n",
    "            drop_entr[d_match] = drop_entr.get(d_match, 0)+1\n",
    "            \n",
    "            if ((p_match and d_match) and (p_match != d_match)):\n",
    "                dirct_lines = tuple(p_lines.intersection(d_lines))\n",
    "                dirct_lines_h = (dirct_lines, h)\n",
    "                if dirct_lines:\n",
    "                    entr_lines[dirct_lines_h] = entr_lines.get(dirct_lines_h, 0)+1\n",
    "                if p_match > d_match:\n",
    "                    pair = (d_match, p_match)\n",
    "                else:\n",
    "                    pair = (p_match, d_match)\n",
    "                entr_pair[pair] = entr_pair.get(pair, 0)+1\n",
    "                \n",
    "    return entr_lines.items()"
   ]
  },
  {
   "cell_type": "code",
   "execution_count": 14,
   "metadata": {
    "collapsed": false
   },
   "outputs": [],
   "source": [
    "def mapper(record):\n",
    "    for key in record[0][0]:\n",
    "        yield (key, record[0][1]), record[1]\n",
    "        \n",
    "rdd = sc.textFile('/Users/chunqingxu/Documents/Spring2017/BDMA/Project/why_yellow_taxi/Data/df_shuffle.csv')\n",
    "counts = rdd.mapPartitionsWithIndex(countLine).flatMap(mapper).reduceByKey(lambda x,y: x+y).collect()  "
   ]
  },
  {
   "cell_type": "code",
   "execution_count": 15,
   "metadata": {
    "collapsed": false
   },
   "outputs": [
    {
     "name": "stdout",
     "output_type": "stream",
     "text": [
      "Hours of day:13 ; Counts:2\n",
      "Hours of day:11 ; Counts:2\n",
      "Hours of day:21 ; Counts:1\n",
      "Hours of day:14 ; Counts:1\n",
      "Hours of day:16 ; Counts:1\n"
     ]
    }
   ],
   "source": [
    "for i in range(len(counts)):\n",
    "    if counts[i][0][0] == '6':\n",
    "        print 'Hours of day:{} ; Counts:{}'.format(counts[i][0][1], counts[i][1])"
   ]
  },
  {
   "cell_type": "code",
   "execution_count": 16,
   "metadata": {
    "collapsed": false
   },
   "outputs": [
    {
     "data": {
      "text/plain": [
       "[(('6', 13), 2),\n",
       " ((u'E', 10), 2),\n",
       " ((u'C', 10), 2),\n",
       " (('1', 14), 2),\n",
       " (('6', 11), 2),\n",
       " ((u'F', 14), 2),\n",
       " (('1', 13), 2),\n",
       " (('1', 17), 2),\n",
       " ((u'L', 20), 2),\n",
       " (('2', 9), 1),\n",
       " ((u'M', 14), 1),\n",
       " (('3', 14), 1),\n",
       " ((u'C', 20), 1),\n",
       " ((u'C', 6), 1),\n",
       " (('7', 8), 1),\n",
       " (('1', 20), 1),\n",
       " ((u'E', 20), 1),\n",
       " (('5', 16), 1),\n",
       " (('1', 6), 1),\n",
       " (('1', 16), 1),\n",
       " ((u'E', 6), 1),\n",
       " ((u'N', 21), 1),\n",
       " (('1', 2), 1),\n",
       " ((u'A', 6), 1),\n",
       " ((u'A', 2), 1),\n",
       " ((u'M', 8), 1),\n",
       " (('7', 20), 1),\n",
       " ((u'F', 21), 1),\n",
       " ((u'R', 19), 1),\n",
       " ((u'E', 8), 1),\n",
       " (('2', 13), 1),\n",
       " ((u'F', 7), 1),\n",
       " ((u'R', 15), 1),\n",
       " (('6', 21), 1),\n",
       " ((u'A', 10), 1),\n",
       " ((u'N', 19), 1),\n",
       " (('3', 20), 1),\n",
       " (('1', 12), 1),\n",
       " (('1', 22), 1),\n",
       " (('2', 17), 1),\n",
       " ((u'Q', 18), 1),\n",
       " (('3', 6), 1),\n",
       " ((u'C', 2), 1),\n",
       " ((u'Q', 16), 1),\n",
       " ((u'L', 11), 1),\n",
       " ((u'N', 15), 1),\n",
       " ((u'R', 21), 1),\n",
       " (('1', 5), 1),\n",
       " ((u'B', 2), 1),\n",
       " (('3', 17), 1),\n",
       " ((u'Q', 19), 1),\n",
       " ((u'C', 17), 1),\n",
       " ((u'R', 18), 1),\n",
       " ((u'R', 16), 1),\n",
       " ((u'C', 21), 1),\n",
       " ((u'A', 13), 1),\n",
       " (('6', 14), 1),\n",
       " (('1', 21), 1),\n",
       " (('4', 16), 1),\n",
       " ((u'A', 9), 1),\n",
       " ((u'N', 16), 1),\n",
       " ((u'N', 18), 1),\n",
       " (('1', 3), 1),\n",
       " (('3', 13), 1),\n",
       " (('2', 14), 1),\n",
       " ((u'C', 15), 1),\n",
       " ((u'Q', 21), 1),\n",
       " (('3', 9), 1),\n",
       " ((u'C', 19), 1),\n",
       " (('1', 19), 1),\n",
       " ((u'A', 17), 1),\n",
       " ((u'E', 19), 1),\n",
       " (('1', 11), 1),\n",
       " (('6', 16), 1),\n",
       " (('2', 6), 1),\n",
       " ((u'C', 9), 1),\n",
       " ((u'D', 2), 1),\n",
       " (('1', 23), 1),\n",
       " ((u'E', 13), 1),\n",
       " ((u'C', 13), 1),\n",
       " ((u'Q', 15), 1),\n",
       " (('2', 20), 1),\n",
       " ((u'A', 19), 1)]"
      ]
     },
     "execution_count": 16,
     "metadata": {},
     "output_type": "execute_result"
    }
   ],
   "source": [
    "sorted(counts, key=lambda x: x[1], reverse=True)"
   ]
  },
  {
   "cell_type": "code",
   "execution_count": null,
   "metadata": {
    "collapsed": true
   },
   "outputs": [],
   "source": []
  }
 ],
 "metadata": {
  "anaconda-cloud": {},
  "kernelspec": {
   "display_name": "Python [default]",
   "language": "python",
   "name": "python2"
  },
  "language_info": {
   "codemirror_mode": {
    "name": "ipython",
    "version": 2
   },
   "file_extension": ".py",
   "mimetype": "text/x-python",
   "name": "python",
   "nbconvert_exporter": "python",
   "pygments_lexer": "ipython2",
   "version": "2.7.13"
  }
 },
 "nbformat": 4,
 "nbformat_minor": 1
}
