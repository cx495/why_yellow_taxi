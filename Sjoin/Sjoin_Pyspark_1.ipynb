{
 "cells": [
  {
   "cell_type": "code",
   "execution_count": 2,
   "metadata": {
    "collapsed": false
   },
   "outputs": [
    {
     "data": {
      "text/plain": [
       "<pyspark.context.SparkContext at 0x105268b90>"
      ]
     },
     "execution_count": 2,
     "metadata": {},
     "output_type": "execute_result"
    }
   ],
   "source": [
    "sc"
   ]
  },
  {
   "cell_type": "code",
   "execution_count": 3,
   "metadata": {
    "collapsed": true
   },
   "outputs": [],
   "source": [
    "import pyproj\n",
    "import csv\n",
    "import shapely.geometry as geom\n",
    "import fiona\n",
    "import fiona.crs\n",
    "import shapely\n",
    "import rtree\n",
    "import geopandas as gpd\n",
    "import numpy as np\n",
    "import operator\n",
    "# just for display, not for calculation\n",
    "import pandas as pd"
   ]
  },
  {
   "cell_type": "code",
   "execution_count": 4,
   "metadata": {
    "collapsed": false
   },
   "outputs": [
    {
     "name": "stdout",
     "output_type": "stream",
     "text": [
      "Index([u'VendorID', u'tpep_pickup_datetime', u'tpep_dropoff_datetime',\n",
      "       u'passenger_count', u'trip_distance', u'pickup_longitude',\n",
      "       u'pickup_latitude', u'RatecodeID', u'store_and_fwd_flag',\n",
      "       u'dropoff_longitude', u'dropoff_latitude', u'payment_type',\n",
      "       u'fare_amount', u'extra', u'mta_tax', u'tip_amount', u'tolls_amount',\n",
      "       u'improvement_surcharge', u'total_amount'],\n",
      "      dtype='object')\n"
     ]
    },
    {
     "data": {
      "text/html": [
       "<div>\n",
       "<table border=\"1\" class=\"dataframe\">\n",
       "  <thead>\n",
       "    <tr style=\"text-align: right;\">\n",
       "      <th></th>\n",
       "      <th>VendorID</th>\n",
       "      <th>tpep_pickup_datetime</th>\n",
       "      <th>tpep_dropoff_datetime</th>\n",
       "      <th>passenger_count</th>\n",
       "      <th>trip_distance</th>\n",
       "      <th>pickup_longitude</th>\n",
       "      <th>pickup_latitude</th>\n",
       "      <th>RatecodeID</th>\n",
       "      <th>store_and_fwd_flag</th>\n",
       "      <th>dropoff_longitude</th>\n",
       "      <th>dropoff_latitude</th>\n",
       "      <th>payment_type</th>\n",
       "      <th>fare_amount</th>\n",
       "      <th>extra</th>\n",
       "      <th>mta_tax</th>\n",
       "      <th>tip_amount</th>\n",
       "      <th>tolls_amount</th>\n",
       "      <th>improvement_surcharge</th>\n",
       "      <th>total_amount</th>\n",
       "    </tr>\n",
       "  </thead>\n",
       "  <tbody>\n",
       "    <tr>\n",
       "      <th>0</th>\n",
       "      <td>2</td>\n",
       "      <td>2016-01-19 09:57:48</td>\n",
       "      <td>2016-01-19 10:15:50</td>\n",
       "      <td>3</td>\n",
       "      <td>1.16</td>\n",
       "      <td>-73.984688</td>\n",
       "      <td>40.759109</td>\n",
       "      <td>1</td>\n",
       "      <td>N</td>\n",
       "      <td>-74.000557</td>\n",
       "      <td>40.757912</td>\n",
       "      <td>1</td>\n",
       "      <td>12.0</td>\n",
       "      <td>0.0</td>\n",
       "      <td>0.5</td>\n",
       "      <td>2.56</td>\n",
       "      <td>0.0</td>\n",
       "      <td>0.3</td>\n",
       "      <td>15.36</td>\n",
       "    </tr>\n",
       "    <tr>\n",
       "      <th>1</th>\n",
       "      <td>2</td>\n",
       "      <td>2016-01-15 04:00:16</td>\n",
       "      <td>2016-01-15 04:02:03</td>\n",
       "      <td>1</td>\n",
       "      <td>0.76</td>\n",
       "      <td>-73.988274</td>\n",
       "      <td>40.731468</td>\n",
       "      <td>1</td>\n",
       "      <td>N</td>\n",
       "      <td>-73.981339</td>\n",
       "      <td>40.741234</td>\n",
       "      <td>2</td>\n",
       "      <td>4.5</td>\n",
       "      <td>0.5</td>\n",
       "      <td>0.5</td>\n",
       "      <td>0.00</td>\n",
       "      <td>0.0</td>\n",
       "      <td>0.3</td>\n",
       "      <td>5.80</td>\n",
       "    </tr>\n",
       "  </tbody>\n",
       "</table>\n",
       "</div>"
      ],
      "text/plain": [
       "   VendorID tpep_pickup_datetime tpep_dropoff_datetime  passenger_count  \\\n",
       "0         2  2016-01-19 09:57:48   2016-01-19 10:15:50                3   \n",
       "1         2  2016-01-15 04:00:16   2016-01-15 04:02:03                1   \n",
       "\n",
       "   trip_distance  pickup_longitude  pickup_latitude  RatecodeID  \\\n",
       "0           1.16        -73.984688        40.759109           1   \n",
       "1           0.76        -73.988274        40.731468           1   \n",
       "\n",
       "  store_and_fwd_flag  dropoff_longitude  dropoff_latitude  payment_type  \\\n",
       "0                  N         -74.000557         40.757912             1   \n",
       "1                  N         -73.981339         40.741234             2   \n",
       "\n",
       "   fare_amount  extra  mta_tax  tip_amount  tolls_amount  \\\n",
       "0         12.0    0.0      0.5        2.56           0.0   \n",
       "1          4.5    0.5      0.5        0.00           0.0   \n",
       "\n",
       "   improvement_surcharge  total_amount  \n",
       "0                    0.3         15.36  \n",
       "1                    0.3          5.80  "
      ]
     },
     "execution_count": 4,
     "metadata": {},
     "output_type": "execute_result"
    }
   ],
   "source": [
    "# small sample\n",
    "taxi = pd.read_pickle('../why_yellow_taxi/Data/df_shuffle.pkl')\n",
    "del taxi['Unnamed: 0']\n",
    "taxi.to_csv('df_shuffle.csv', index=False)\n",
    "taxi = pd.read_csv('./df_shuffle.csv')\n",
    "print taxi.columns\n",
    "taxi.head(2)\n",
    "# test5 = taxi.head()[['pickup_longitude', 'pickup_latitude', 'dropoff_longitude', 'dropoff_latitude']]"
   ]
  },
  {
   "cell_type": "code",
   "execution_count": 5,
   "metadata": {
    "collapsed": false
   },
   "outputs": [
    {
     "data": {
      "text/plain": [
       "{u'datum': u'NAD83',\n",
       " u'lat_0': 40.1666666667,\n",
       " u'lat_1': 41.0333333333,\n",
       " u'lat_2': 40.6666666667,\n",
       " u'lon_0': -74,\n",
       " u'no_defs': True,\n",
       " u'proj': u'lcc',\n",
       " u'units': u'us-ft',\n",
       " u'x_0': 300000.0000000001,\n",
       " u'y_0': 0}"
      ]
     },
     "execution_count": 5,
     "metadata": {},
     "output_type": "execute_result"
    }
   ],
   "source": [
    "shapefile = '../why_yellow_taxi/Buffer/entr_buffer_100_feet_epsg4269_nad83/entr_buffer_100_feet_epsg4269_nad83.shp'\n",
    "entr_buf = gpd.read_file(shapefile)\n",
    "entr_buf.crs"
   ]
  },
  {
   "cell_type": "code",
   "execution_count": 6,
   "metadata": {
    "collapsed": false
   },
   "outputs": [
    {
     "data": {
      "text/html": [
       "<div>\n",
       "<table border=\"1\" class=\"dataframe\">\n",
       "  <thead>\n",
       "    <tr style=\"text-align: right;\">\n",
       "      <th></th>\n",
       "      <th>ADA</th>\n",
       "      <th>ADA_Notes</th>\n",
       "      <th>Corner</th>\n",
       "      <th>Division</th>\n",
       "      <th>East_West_</th>\n",
       "      <th>Entrance_T</th>\n",
       "      <th>Entry</th>\n",
       "      <th>Exit_Only</th>\n",
       "      <th>Free_Cross</th>\n",
       "      <th>GEOID</th>\n",
       "      <th>...</th>\n",
       "      <th>Route_7</th>\n",
       "      <th>Route_8</th>\n",
       "      <th>Route_9</th>\n",
       "      <th>Staff_Hour</th>\n",
       "      <th>Staffing</th>\n",
       "      <th>Station_La</th>\n",
       "      <th>Station_Lo</th>\n",
       "      <th>Station_Na</th>\n",
       "      <th>Vending</th>\n",
       "      <th>geometry</th>\n",
       "    </tr>\n",
       "  </thead>\n",
       "  <tbody>\n",
       "    <tr>\n",
       "      <th>0</th>\n",
       "      <td>FALSE</td>\n",
       "      <td>None</td>\n",
       "      <td>NW</td>\n",
       "      <td>BMT</td>\n",
       "      <td>23rd Ave</td>\n",
       "      <td>Stair</td>\n",
       "      <td>YES</td>\n",
       "      <td>None</td>\n",
       "      <td>TRUE</td>\n",
       "      <td>36081</td>\n",
       "      <td>...</td>\n",
       "      <td>None</td>\n",
       "      <td>NaN</td>\n",
       "      <td>NaN</td>\n",
       "      <td>None</td>\n",
       "      <td>FULL</td>\n",
       "      <td>40.775036</td>\n",
       "      <td>-73.912034</td>\n",
       "      <td>Ditmars Blvd</td>\n",
       "      <td>YES</td>\n",
       "      <td>POLYGON ((1008702.708067201 221696.7163773818,...</td>\n",
       "    </tr>\n",
       "    <tr>\n",
       "      <th>1</th>\n",
       "      <td>FALSE</td>\n",
       "      <td>None</td>\n",
       "      <td>NE</td>\n",
       "      <td>BMT</td>\n",
       "      <td>23rd Ave</td>\n",
       "      <td>Stair</td>\n",
       "      <td>YES</td>\n",
       "      <td>None</td>\n",
       "      <td>TRUE</td>\n",
       "      <td>36081</td>\n",
       "      <td>...</td>\n",
       "      <td>None</td>\n",
       "      <td>NaN</td>\n",
       "      <td>NaN</td>\n",
       "      <td>None</td>\n",
       "      <td>FULL</td>\n",
       "      <td>40.775036</td>\n",
       "      <td>-73.912034</td>\n",
       "      <td>Ditmars Blvd</td>\n",
       "      <td>YES</td>\n",
       "      <td>POLYGON ((1008681.505385144 221573.1859671536,...</td>\n",
       "    </tr>\n",
       "  </tbody>\n",
       "</table>\n",
       "<p>2 rows × 33 columns</p>\n",
       "</div>"
      ],
      "text/plain": [
       "     ADA ADA_Notes Corner Division East_West_ Entrance_T Entry Exit_Only  \\\n",
       "0  FALSE      None     NW      BMT   23rd Ave      Stair   YES      None   \n",
       "1  FALSE      None     NE      BMT   23rd Ave      Stair   YES      None   \n",
       "\n",
       "  Free_Cross  GEOID                        ...                          \\\n",
       "0       TRUE  36081                        ...                           \n",
       "1       TRUE  36081                        ...                           \n",
       "\n",
       "   Route_7 Route_8  Route_9 Staff_Hour Staffing Station_La  Station_Lo  \\\n",
       "0     None     NaN      NaN       None     FULL  40.775036  -73.912034   \n",
       "1     None     NaN      NaN       None     FULL  40.775036  -73.912034   \n",
       "\n",
       "     Station_Na Vending                                           geometry  \n",
       "0  Ditmars Blvd     YES  POLYGON ((1008702.708067201 221696.7163773818,...  \n",
       "1  Ditmars Blvd     YES  POLYGON ((1008681.505385144 221573.1859671536,...  \n",
       "\n",
       "[2 rows x 33 columns]"
      ]
     },
     "execution_count": 6,
     "metadata": {},
     "output_type": "execute_result"
    }
   ],
   "source": [
    "entr_buf.head(2)"
   ]
  },
  {
   "cell_type": "code",
   "execution_count": 37,
   "metadata": {
    "collapsed": false
   },
   "outputs": [
    {
     "data": {
      "text/html": [
       "<div>\n",
       "<table border=\"1\" class=\"dataframe\">\n",
       "  <thead>\n",
       "    <tr style=\"text-align: right;\">\n",
       "      <th></th>\n",
       "      <th>ADA</th>\n",
       "      <th>ADA_Notes</th>\n",
       "      <th>Corner</th>\n",
       "      <th>Division</th>\n",
       "      <th>East_West_</th>\n",
       "      <th>Entrance_T</th>\n",
       "      <th>Entry</th>\n",
       "      <th>Exit_Only</th>\n",
       "      <th>Free_Cross</th>\n",
       "      <th>GEOID</th>\n",
       "      <th>...</th>\n",
       "      <th>Route_8</th>\n",
       "      <th>Route_9</th>\n",
       "      <th>Staff_Hour</th>\n",
       "      <th>Staffing</th>\n",
       "      <th>Station_La</th>\n",
       "      <th>Station_Lo</th>\n",
       "      <th>Station_Na</th>\n",
       "      <th>Vending</th>\n",
       "      <th>geometry</th>\n",
       "      <th>entr2line</th>\n",
       "    </tr>\n",
       "  </thead>\n",
       "  <tbody>\n",
       "    <tr>\n",
       "      <th>0</th>\n",
       "      <td>FALSE</td>\n",
       "      <td>None</td>\n",
       "      <td>NW</td>\n",
       "      <td>BMT</td>\n",
       "      <td>23rd Ave</td>\n",
       "      <td>Stair</td>\n",
       "      <td>YES</td>\n",
       "      <td>None</td>\n",
       "      <td>TRUE</td>\n",
       "      <td>36081</td>\n",
       "      <td>...</td>\n",
       "      <td>NaN</td>\n",
       "      <td>NaN</td>\n",
       "      <td>None</td>\n",
       "      <td>FULL</td>\n",
       "      <td>40.775036</td>\n",
       "      <td>-73.912034</td>\n",
       "      <td>Ditmars Blvd</td>\n",
       "      <td>YES</td>\n",
       "      <td>POLYGON ((1008702.708067203 221696.7163890629,...</td>\n",
       "      <td>[N, Q]</td>\n",
       "    </tr>\n",
       "    <tr>\n",
       "      <th>1</th>\n",
       "      <td>FALSE</td>\n",
       "      <td>None</td>\n",
       "      <td>NE</td>\n",
       "      <td>BMT</td>\n",
       "      <td>23rd Ave</td>\n",
       "      <td>Stair</td>\n",
       "      <td>YES</td>\n",
       "      <td>None</td>\n",
       "      <td>TRUE</td>\n",
       "      <td>36081</td>\n",
       "      <td>...</td>\n",
       "      <td>NaN</td>\n",
       "      <td>NaN</td>\n",
       "      <td>None</td>\n",
       "      <td>FULL</td>\n",
       "      <td>40.775036</td>\n",
       "      <td>-73.912034</td>\n",
       "      <td>Ditmars Blvd</td>\n",
       "      <td>YES</td>\n",
       "      <td>POLYGON ((1008681.505385145 221573.1859788439,...</td>\n",
       "      <td>[N, Q]</td>\n",
       "    </tr>\n",
       "  </tbody>\n",
       "</table>\n",
       "<p>2 rows × 34 columns</p>\n",
       "</div>"
      ],
      "text/plain": [
       "     ADA ADA_Notes Corner Division East_West_ Entrance_T Entry Exit_Only  \\\n",
       "0  FALSE      None     NW      BMT   23rd Ave      Stair   YES      None   \n",
       "1  FALSE      None     NE      BMT   23rd Ave      Stair   YES      None   \n",
       "\n",
       "  Free_Cross  GEOID    ...     Route_8 Route_9  Staff_Hour Staffing  \\\n",
       "0       TRUE  36081    ...         NaN     NaN        None     FULL   \n",
       "1       TRUE  36081    ...         NaN     NaN        None     FULL   \n",
       "\n",
       "  Station_La Station_Lo    Station_Na  Vending  \\\n",
       "0  40.775036 -73.912034  Ditmars Blvd      YES   \n",
       "1  40.775036 -73.912034  Ditmars Blvd      YES   \n",
       "\n",
       "                                            geometry entr2line  \n",
       "0  POLYGON ((1008702.708067203 221696.7163890629,...    [N, Q]  \n",
       "1  POLYGON ((1008681.505385145 221573.1859788439,...    [N, Q]  \n",
       "\n",
       "[2 rows x 34 columns]"
      ]
     },
     "execution_count": 37,
     "metadata": {},
     "output_type": "execute_result"
    }
   ],
   "source": [
    "entr_buf = entr_buf.to_crs(fiona.crs.from_epsg(2263))\n",
    "routes = ['Route_' + str(n) for n in range(1, 12)]\n",
    "entr2line = []\n",
    "for i in xrange(len(entr_buf)):\n",
    "    #lines = [line for line in list(entr_buf.loc[:,routes].ix[i].dropna().values)]\n",
    "    lines = []\n",
    "    for line in list(entr_buf.loc[:,routes].ix[i].dropna().values):\n",
    "        try:\n",
    "            line = str(int(line))\n",
    "        except ValueError:\n",
    "            pass\n",
    "        lines.append(line)\n",
    "    entr2line.append(lines)\n",
    "entr_buf['entr2line'] = entr2line\n",
    "\n",
    "entr_buf.head(2)"
   ]
  },
  {
   "cell_type": "code",
   "execution_count": 8,
   "metadata": {
    "collapsed": false
   },
   "outputs": [
    {
     "data": {
      "text/plain": [
       "10900"
      ]
     },
     "execution_count": 8,
     "metadata": {},
     "output_type": "execute_result"
    }
   ],
   "source": [
    "len(taxi)"
   ]
  },
  {
   "cell_type": "code",
   "execution_count": 9,
   "metadata": {
    "collapsed": false
   },
   "outputs": [
    {
     "data": {
      "text/plain": [
       "1868"
      ]
     },
     "execution_count": 9,
     "metadata": {},
     "output_type": "execute_result"
    }
   ],
   "source": [
    "len(entr_buf)"
   ]
  },
  {
   "cell_type": "code",
   "execution_count": 11,
   "metadata": {
    "collapsed": false
   },
   "outputs": [],
   "source": [
    "index = rtree.Rtree()\n",
    "for idx, geometry in enumerate(entr_buf.geometry):\n",
    "    index.insert(idx, geometry.bounds)"
   ]
  },
  {
   "cell_type": "code",
   "execution_count": 44,
   "metadata": {
    "collapsed": false
   },
   "outputs": [
    {
     "name": "stdout",
     "output_type": "stream",
     "text": [
      "['VendorID', 'tpep_pickup_datetime', 'tpep_dropoff_datetime', 'passenger_count', 'trip_distance', 'pickup_longitude', 'pickup_latitude', 'RatecodeID', 'store_and_fwd_flag', 'dropoff_longitude', 'dropoff_latitude', 'payment_type', 'fare_amount', 'extra', 'mta_tax', 'tip_amount', 'tolls_amount', 'improvement_surcharge', 'total_amount']\n"
     ]
    }
   ],
   "source": [
    "proj = pyproj.Proj(init='epsg:2263', preserve_units=True) \n",
    "#?preserve_units=True\n",
    "\n",
    "entr_pair = {}\n",
    "pick_entr = {}\n",
    "drop_entr = {}\n",
    "entr_lines = {}\n",
    "\n",
    "with open('./df_shuffle.csv', 'rb') as fi:\n",
    "    reader = csv.reader(fi)\n",
    "    print reader.next()\n",
    "    for row in reader:\n",
    "        if ((float(row[5])!=0) and float(row[9]!=0)):\n",
    "            p = geom.Point(proj(float(row[5]), float(row[6])))\n",
    "            d = geom.Point(proj(float(row[9]), float(row[10])))\n",
    "            p_potential = index.intersection((p.x,p.y,p.x,p.y))\n",
    "            d_potential = index.intersection((d.x,d.y,d.x,d.y))\n",
    "            # print p_potential\n",
    "            p_match = None # The first one match, should be the closest one? No!\n",
    "            d_match = None\n",
    "            \n",
    "            for p_idx in p_potential:\n",
    "                if entr_buf.geometry[p_idx].contains(p):\n",
    "                    p_match = p_idx # print 'p',p_idx\n",
    "                    p_lines = set(entr_buf.entr2line[p_idx])\n",
    "                    break\n",
    "            pick_entr[p_match] = pick_entr.get(p_match, 0)+1\n",
    "            \n",
    "            for d_idx in d_potential:\n",
    "                if entr_buf.geometry[d_idx].contains(d):\n",
    "                    d_match = d_idx # print 'd',d_idx\n",
    "                    d_lines = set(entr_buf.entr2line[d_idx])\n",
    "                    break\n",
    "            drop_entr[d_match] = drop_entr.get(d_match, 0)+1\n",
    "            \n",
    "            if ((p_match and d_match) and (p_match != d_match)):\n",
    "                dirct_lines = tuple(p_lines.intersection(d_lines))\n",
    "                if dirct_lines:\n",
    "                    entr_lines[dirct_lines] = entr_lines.get(dirct_lines, 0)+1\n",
    "                if p_match > d_match:\n",
    "                    pair = (d_match, p_match)\n",
    "                else:\n",
    "                    pair = (p_match, d_match)\n",
    "                entr_pair[pair] = entr_pair.get(pair, 0)+1"
   ]
  },
  {
   "cell_type": "code",
   "execution_count": 45,
   "metadata": {
    "collapsed": false
   },
   "outputs": [
    {
     "name": "stdout",
     "output_type": "stream",
     "text": [
      "10900\n",
      "(438,)\n",
      "10748\n",
      "(402,)\n",
      "10748\n"
     ]
    }
   ],
   "source": [
    "print len(taxi)\n",
    "\n",
    "print np.unique(pick_entr.keys()).shape\n",
    "print sum(pick_entr.values())\n",
    "\n",
    "print np.unique(drop_entr.keys()).shape\n",
    "print sum(drop_entr.values())"
   ]
  },
  {
   "cell_type": "code",
   "execution_count": 46,
   "metadata": {
    "collapsed": false
   },
   "outputs": [
    {
     "name": "stdout",
     "output_type": "stream",
     "text": [
      "119\n"
     ]
    },
    {
     "data": {
      "text/plain": [
       "[((1138, 1549), 2),\n",
       " ((1732, 1802), 1),\n",
       " ((779, 1865), 1),\n",
       " ((329, 759), 1),\n",
       " ((316, 512), 1),\n",
       " ((365, 991), 1),\n",
       " ((1131, 1677), 1),\n",
       " ((311, 945), 1),\n",
       " ((1549, 1733), 1),\n",
       " ((746, 1816), 1)]"
      ]
     },
     "execution_count": 46,
     "metadata": {},
     "output_type": "execute_result"
    }
   ],
   "source": [
    "print sum(entr_pair.values())\n",
    "sorted(entr_pair.items(), key=operator.itemgetter(1), reverse=True)[:10]"
   ]
  },
  {
   "cell_type": "code",
   "execution_count": 47,
   "metadata": {
    "collapsed": false
   },
   "outputs": [
    {
     "data": {
      "text/plain": [
       "array([u'ADA', u'ADA_Notes', u'Corner', u'Division', u'East_West_',\n",
       "       u'Entrance_T', u'Entry', u'Exit_Only', u'Free_Cross', u'GEOID',\n",
       "       u'Latitude', u'Line', u'Longitude', u'NAMELSAD', u'North_Sout',\n",
       "       u'Route_1', u'Route_10', u'Route_11', u'Route_2', u'Route_3',\n",
       "       u'Route_4', u'Route_5', u'Route_6', u'Route_7', u'Route_8',\n",
       "       u'Route_9', u'Staff_Hour', u'Staffing', u'Station_La',\n",
       "       u'Station_Lo', u'Station_Na', u'Vending', 'geometry', 'entr2line'], dtype=object)"
      ]
     },
     "execution_count": 47,
     "metadata": {},
     "output_type": "execute_result"
    }
   ],
   "source": [
    "entr_buf.columns.values"
   ]
  },
  {
   "cell_type": "code",
   "execution_count": 48,
   "metadata": {
    "collapsed": false
   },
   "outputs": [
    {
     "data": {
      "text/plain": [
       "{('1',): 11,\n",
       " ('1', '3', '2'): 5,\n",
       " ('6',): 6,\n",
       " ('7',): 2,\n",
       " (u'A', '1', u'C'): 1,\n",
       " (u'A', '1', u'C', u'B', u'D'): 1,\n",
       " (u'A', u'C', '2', '3'): 1,\n",
       " (u'A', u'C', u'E'): 4,\n",
       " (u'C',): 2,\n",
       " (u'C', u'E'): 2,\n",
       " (u'E', u'M'): 1,\n",
       " (u'F',): 4,\n",
       " (u'L',): 3,\n",
       " (u'M',): 1,\n",
       " (u'N', u'Q', u'R', '5', '4', '6'): 1,\n",
       " (u'Q', u'R', u'N'): 4}"
      ]
     },
     "execution_count": 48,
     "metadata": {},
     "output_type": "execute_result"
    }
   ],
   "source": [
    "entr_lines"
   ]
  },
  {
   "cell_type": "code",
   "execution_count": null,
   "metadata": {
    "collapsed": true
   },
   "outputs": [],
   "source": []
  },
  {
   "cell_type": "markdown",
   "metadata": {},
   "source": [
    "# Function"
   ]
  },
  {
   "cell_type": "code",
   "execution_count": 50,
   "metadata": {
    "collapsed": true
   },
   "outputs": [],
   "source": [
    "def countLine(partID, records):\n",
    "    import pyproj\n",
    "    import csv\n",
    "    import shapely.geometry as geom\n",
    "    import fiona\n",
    "    import fiona.crs\n",
    "    import shapely\n",
    "    import rtree\n",
    "    import geopandas as gpd\n",
    "    import numpy as np\n",
    "    import operator\n",
    "    import pandas as pd\n",
    "    \n",
    "    taxi = pd.read_pickle('../why_yellow_taxi/Data/df_shuffle.pkl')\n",
    "    del taxi['Unnamed: 0']\n",
    "    shapefile = '../why_yellow_taxi/Buffer/entr_buffer_100_feet_epsg4269_nad83/entr_buffer_100_feet_epsg4269_nad83.shp'\n",
    "    entr_buf = gpd.read_file(shapefile)\n",
    "    entr_buf = entr_buf.to_crs(fiona.crs.from_epsg(2263))\n",
    "    \n",
    "    routes = ['Route_' + str(n) for n in range(1, 12)]\n",
    "    entr2line = []\n",
    "    for i in xrange(len(entr_buf)):\n",
    "        lines = []\n",
    "        for line in list(entr_buf.loc[:,routes].ix[i].dropna().values):\n",
    "            try:\n",
    "                line = str(int(line))\n",
    "            except ValueError:\n",
    "                pass\n",
    "            lines.append(line)\n",
    "        entr2line.append(lines)\n",
    "    entr_buf['entr2line'] = entr2line\n",
    "    \n",
    "    index = rtree.Rtree()\n",
    "    for idx, geometry in enumerate(entr_buf.geometry):\n",
    "        index.insert(idx, geometry.bounds)\n",
    "    \n",
    "\n",
    "    entr_pair = {}\n",
    "    pick_entr = {}\n",
    "    drop_entr = {}\n",
    "    entr_lines = {}\n",
    "    \n",
    "    proj = pyproj.Proj(init='epsg:2263', preserve_units=True)\n",
    "    \n",
    "    if partID==0:\n",
    "        records.next()\n",
    "    reader = csv.reader(records)\n",
    "    for row in reader:\n",
    "        if ((float(row[5])!=0) and float(row[9]!=0)):\n",
    "            p = geom.Point(proj(float(row[5]), float(row[6])))\n",
    "            d = geom.Point(proj(float(row[9]), float(row[10])))\n",
    "            p_potential = index.intersection((p.x,p.y,p.x,p.y))\n",
    "            d_potential = index.intersection((d.x,d.y,d.x,d.y))\n",
    "            p_match = None # The first one match, should be the closest one? No!\n",
    "            d_match = None\n",
    "            \n",
    "            for p_idx in p_potential:\n",
    "                if entr_buf.geometry[p_idx].contains(p):\n",
    "                    p_match = p_idx # print 'p',p_idx\n",
    "                    p_lines = set(entr_buf.entr2line[p_idx])\n",
    "                    break\n",
    "            pick_entr[p_match] = pick_entr.get(p_match, 0)+1\n",
    "            \n",
    "            for d_idx in d_potential:\n",
    "                if entr_buf.geometry[d_idx].contains(d):\n",
    "                    d_match = d_idx # print 'd',d_idx\n",
    "                    d_lines = set(entr_buf.entr2line[d_idx])\n",
    "                    break\n",
    "            drop_entr[d_match] = drop_entr.get(d_match, 0)+1\n",
    "            \n",
    "            if ((p_match and d_match) and (p_match != d_match)):\n",
    "                dirct_lines = tuple(p_lines.intersection(d_lines))\n",
    "                if dirct_lines:\n",
    "                    entr_lines[dirct_lines] = entr_lines.get(dirct_lines, 0)+1\n",
    "                if p_match > d_match:\n",
    "                    pair = (d_match, p_match)\n",
    "                else:\n",
    "                    pair = (p_match, d_match)\n",
    "                entr_pair[pair] = entr_pair.get(pair, 0)+1\n",
    "                \n",
    "    return entr_lines.items()\n",
    "    \n",
    "    \n",
    "        "
   ]
  },
  {
   "cell_type": "code",
   "execution_count": 70,
   "metadata": {
    "collapsed": true
   },
   "outputs": [],
   "source": [
    "def mapper(record):\n",
    "    for key in record[0]:\n",
    "        yield key, record[1]\n",
    "\n",
    "rdd = sc.textFile('./df_shuffle.csv')\n",
    "counts = rdd.mapPartitionsWithIndex(countLine).flatMap(mapper).reduceByKey(lambda x,y: x+y).collect()  "
   ]
  },
  {
   "cell_type": "code",
   "execution_count": 71,
   "metadata": {
    "collapsed": false
   },
   "outputs": [
    {
     "data": {
      "text/plain": [
       "[(u'A', 7),\n",
       " (u'Q', 5),\n",
       " (u'C', 11),\n",
       " (u'E', 7),\n",
       " (u'M', 2),\n",
       " ('1', 18),\n",
       " ('3', 6),\n",
       " ('5', 1),\n",
       " ('7', 2),\n",
       " (u'B', 1),\n",
       " (u'D', 1),\n",
       " (u'F', 4),\n",
       " (u'L', 3),\n",
       " (u'N', 5),\n",
       " ('2', 6),\n",
       " ('4', 1),\n",
       " ('6', 7),\n",
       " (u'R', 5)]"
      ]
     },
     "execution_count": 71,
     "metadata": {},
     "output_type": "execute_result"
    }
   ],
   "source": [
    "counts"
   ]
  }
 ],
 "metadata": {
  "anaconda-cloud": {},
  "kernelspec": {
   "display_name": "Python [default]",
   "language": "python",
   "name": "python2"
  },
  "language_info": {
   "codemirror_mode": {
    "name": "ipython",
    "version": 2
   },
   "file_extension": ".py",
   "mimetype": "text/x-python",
   "name": "python",
   "nbconvert_exporter": "python",
   "pygments_lexer": "ipython2",
   "version": "2.7.12"
  }
 },
 "nbformat": 4,
 "nbformat_minor": 1
}
