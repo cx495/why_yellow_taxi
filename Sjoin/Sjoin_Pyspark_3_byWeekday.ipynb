{
 "cells": [
  {
   "cell_type": "markdown",
   "metadata": {},
   "source": [
    "## yellow_tripdata_2016-01.csv\n",
    "### 1.6 G"
   ]
  },
  {
   "cell_type": "code",
   "execution_count": 46,
   "metadata": {
    "collapsed": false
   },
   "outputs": [
    {
     "data": {
      "text/plain": [
       "<pyspark.context.SparkContext at 0x105268b90>"
      ]
     },
     "execution_count": 46,
     "metadata": {},
     "output_type": "execute_result"
    }
   ],
   "source": [
    "sc"
   ]
  },
  {
   "cell_type": "code",
   "execution_count": 47,
   "metadata": {
    "collapsed": true
   },
   "outputs": [],
   "source": [
    "import pyproj\n",
    "import csv\n",
    "import shapely.geometry as geom\n",
    "import fiona\n",
    "import fiona.crs\n",
    "import shapely\n",
    "import rtree\n",
    "import geopandas as gpd\n",
    "import numpy as np\n",
    "import operator\n",
    "# just for display, not for calculation\n",
    "import pandas as pd"
   ]
  },
  {
   "cell_type": "code",
   "execution_count": 2,
   "metadata": {
    "collapsed": false
   },
   "outputs": [
    {
     "data": {
      "text/html": [
       "<div>\n",
       "<table border=\"1\" class=\"dataframe\">\n",
       "  <thead>\n",
       "    <tr style=\"text-align: right;\">\n",
       "      <th></th>\n",
       "      <th>VendorID</th>\n",
       "      <th>tpep_pickup_datetime</th>\n",
       "      <th>tpep_dropoff_datetime</th>\n",
       "      <th>passenger_count</th>\n",
       "      <th>trip_distance</th>\n",
       "      <th>pickup_longitude</th>\n",
       "      <th>pickup_latitude</th>\n",
       "      <th>RatecodeID</th>\n",
       "      <th>store_and_fwd_flag</th>\n",
       "      <th>dropoff_longitude</th>\n",
       "      <th>dropoff_latitude</th>\n",
       "      <th>payment_type</th>\n",
       "      <th>fare_amount</th>\n",
       "      <th>extra</th>\n",
       "      <th>mta_tax</th>\n",
       "      <th>tip_amount</th>\n",
       "      <th>tolls_amount</th>\n",
       "      <th>improvement_surcharge</th>\n",
       "      <th>total_amount</th>\n",
       "    </tr>\n",
       "  </thead>\n",
       "  <tbody>\n",
       "    <tr>\n",
       "      <th>0</th>\n",
       "      <td>2</td>\n",
       "      <td>2016-01-19 09:57:48</td>\n",
       "      <td>2016-01-19 10:15:50</td>\n",
       "      <td>3</td>\n",
       "      <td>1.16</td>\n",
       "      <td>-73.984688</td>\n",
       "      <td>40.759109</td>\n",
       "      <td>1</td>\n",
       "      <td>N</td>\n",
       "      <td>-74.000557</td>\n",
       "      <td>40.757912</td>\n",
       "      <td>1</td>\n",
       "      <td>12.0</td>\n",
       "      <td>0.0</td>\n",
       "      <td>0.5</td>\n",
       "      <td>2.56</td>\n",
       "      <td>0.0</td>\n",
       "      <td>0.3</td>\n",
       "      <td>15.36</td>\n",
       "    </tr>\n",
       "    <tr>\n",
       "      <th>1</th>\n",
       "      <td>2</td>\n",
       "      <td>2016-01-15 04:00:16</td>\n",
       "      <td>2016-01-15 04:02:03</td>\n",
       "      <td>1</td>\n",
       "      <td>0.76</td>\n",
       "      <td>-73.988274</td>\n",
       "      <td>40.731468</td>\n",
       "      <td>1</td>\n",
       "      <td>N</td>\n",
       "      <td>-73.981339</td>\n",
       "      <td>40.741234</td>\n",
       "      <td>2</td>\n",
       "      <td>4.5</td>\n",
       "      <td>0.5</td>\n",
       "      <td>0.5</td>\n",
       "      <td>0.00</td>\n",
       "      <td>0.0</td>\n",
       "      <td>0.3</td>\n",
       "      <td>5.80</td>\n",
       "    </tr>\n",
       "    <tr>\n",
       "      <th>2</th>\n",
       "      <td>2</td>\n",
       "      <td>2016-01-10 00:58:03</td>\n",
       "      <td>2016-01-10 01:04:49</td>\n",
       "      <td>1</td>\n",
       "      <td>1.28</td>\n",
       "      <td>0.000000</td>\n",
       "      <td>0.000000</td>\n",
       "      <td>1</td>\n",
       "      <td>N</td>\n",
       "      <td>0.000000</td>\n",
       "      <td>0.000000</td>\n",
       "      <td>2</td>\n",
       "      <td>6.5</td>\n",
       "      <td>0.5</td>\n",
       "      <td>0.5</td>\n",
       "      <td>0.00</td>\n",
       "      <td>0.0</td>\n",
       "      <td>0.3</td>\n",
       "      <td>7.80</td>\n",
       "    </tr>\n",
       "    <tr>\n",
       "      <th>3</th>\n",
       "      <td>1</td>\n",
       "      <td>2016-01-03 17:32:54</td>\n",
       "      <td>2016-01-03 18:12:50</td>\n",
       "      <td>1</td>\n",
       "      <td>5.80</td>\n",
       "      <td>-74.017334</td>\n",
       "      <td>40.704903</td>\n",
       "      <td>1</td>\n",
       "      <td>N</td>\n",
       "      <td>-73.990944</td>\n",
       "      <td>40.663696</td>\n",
       "      <td>1</td>\n",
       "      <td>28.5</td>\n",
       "      <td>1.0</td>\n",
       "      <td>0.5</td>\n",
       "      <td>6.05</td>\n",
       "      <td>0.0</td>\n",
       "      <td>0.3</td>\n",
       "      <td>36.35</td>\n",
       "    </tr>\n",
       "    <tr>\n",
       "      <th>4</th>\n",
       "      <td>1</td>\n",
       "      <td>2016-01-06 08:21:41</td>\n",
       "      <td>2016-01-06 08:42:30</td>\n",
       "      <td>1</td>\n",
       "      <td>2.70</td>\n",
       "      <td>-74.001259</td>\n",
       "      <td>40.741528</td>\n",
       "      <td>1</td>\n",
       "      <td>N</td>\n",
       "      <td>-73.971085</td>\n",
       "      <td>40.760841</td>\n",
       "      <td>2</td>\n",
       "      <td>15.0</td>\n",
       "      <td>0.0</td>\n",
       "      <td>0.5</td>\n",
       "      <td>0.00</td>\n",
       "      <td>0.0</td>\n",
       "      <td>0.3</td>\n",
       "      <td>15.80</td>\n",
       "    </tr>\n",
       "  </tbody>\n",
       "</table>\n",
       "</div>"
      ],
      "text/plain": [
       "   VendorID tpep_pickup_datetime tpep_dropoff_datetime  passenger_count  \\\n",
       "0         2  2016-01-19 09:57:48   2016-01-19 10:15:50                3   \n",
       "1         2  2016-01-15 04:00:16   2016-01-15 04:02:03                1   \n",
       "2         2  2016-01-10 00:58:03   2016-01-10 01:04:49                1   \n",
       "3         1  2016-01-03 17:32:54   2016-01-03 18:12:50                1   \n",
       "4         1  2016-01-06 08:21:41   2016-01-06 08:42:30                1   \n",
       "\n",
       "   trip_distance  pickup_longitude  pickup_latitude  RatecodeID  \\\n",
       "0           1.16        -73.984688        40.759109           1   \n",
       "1           0.76        -73.988274        40.731468           1   \n",
       "2           1.28          0.000000         0.000000           1   \n",
       "3           5.80        -74.017334        40.704903           1   \n",
       "4           2.70        -74.001259        40.741528           1   \n",
       "\n",
       "  store_and_fwd_flag  dropoff_longitude  dropoff_latitude  payment_type  \\\n",
       "0                  N         -74.000557         40.757912             1   \n",
       "1                  N         -73.981339         40.741234             2   \n",
       "2                  N           0.000000          0.000000             2   \n",
       "3                  N         -73.990944         40.663696             1   \n",
       "4                  N         -73.971085         40.760841             2   \n",
       "\n",
       "   fare_amount  extra  mta_tax  tip_amount  tolls_amount  \\\n",
       "0         12.0    0.0      0.5        2.56           0.0   \n",
       "1          4.5    0.5      0.5        0.00           0.0   \n",
       "2          6.5    0.5      0.5        0.00           0.0   \n",
       "3         28.5    1.0      0.5        6.05           0.0   \n",
       "4         15.0    0.0      0.5        0.00           0.0   \n",
       "\n",
       "   improvement_surcharge  total_amount  \n",
       "0                    0.3         15.36  \n",
       "1                    0.3          5.80  \n",
       "2                    0.3          7.80  \n",
       "3                    0.3         36.35  \n",
       "4                    0.3         15.80  "
      ]
     },
     "execution_count": 2,
     "metadata": {},
     "output_type": "execute_result"
    }
   ],
   "source": [
    "df = pd.read_csv('./df_shuffle.csv')\n",
    "df.head()"
   ]
  },
  {
   "cell_type": "code",
   "execution_count": 29,
   "metadata": {
    "collapsed": false
   },
   "outputs": [],
   "source": [
    "import datetime\n",
    "def wkd(time):\n",
    "    return datetime.datetime.strptime(time, '%Y-%m-%d %H:%M:%S').weekday()"
   ]
  },
  {
   "cell_type": "code",
   "execution_count": 40,
   "metadata": {
    "collapsed": false
   },
   "outputs": [],
   "source": [
    "# wkd(df.tpep_pickup_datetime[0])\n",
    "# pd.to_datetime(df.tpep_pickup_datetime).map(lambda x: x.weekday())"
   ]
  },
  {
   "cell_type": "markdown",
   "metadata": {},
   "source": [
    "# Function"
   ]
  },
  {
   "cell_type": "code",
   "execution_count": 58,
   "metadata": {
    "collapsed": true
   },
   "outputs": [],
   "source": [
    "def countLine(partID, records):\n",
    "    import pyproj\n",
    "    import csv\n",
    "    import shapely.geometry as geom\n",
    "    import fiona\n",
    "    import fiona.crs\n",
    "    import shapely\n",
    "    import rtree\n",
    "    import geopandas as gpd\n",
    "    import numpy as np\n",
    "    import operator\n",
    "    import pandas as pd\n",
    "    import datetime\n",
    "    \n",
    "    shapefile = '../why_yellow_taxi/Buffer/entr_buffer_100_feet_epsg4269_nad83/entr_buffer_100_feet_epsg4269_nad83.shp'\n",
    "    entr_buf = gpd.read_file(shapefile)\n",
    "    entr_buf = entr_buf.to_crs(fiona.crs.from_epsg(2263))\n",
    "    \n",
    "    routes = ['Route_' + str(n) for n in range(1, 12)]\n",
    "    entr2line = []\n",
    "    for i in xrange(len(entr_buf)):\n",
    "        lines = []\n",
    "        for line in list(entr_buf.loc[:,routes].ix[i].dropna().values):\n",
    "            try:\n",
    "                line = str(int(line))\n",
    "            except ValueError:\n",
    "                pass\n",
    "            lines.append(line)\n",
    "        entr2line.append(lines)\n",
    "    entr_buf['entr2line'] = entr2line\n",
    "    \n",
    "    index = rtree.Rtree()\n",
    "    for idx, geometry in enumerate(entr_buf.geometry):\n",
    "        index.insert(idx, geometry.bounds)\n",
    "    \n",
    "\n",
    "    entr_pair = {}\n",
    "    pick_entr = {}\n",
    "    drop_entr = {}\n",
    "    entr_lines = {}\n",
    "    \n",
    "    proj = pyproj.Proj(init='epsg:2263', preserve_units=True)\n",
    "    \n",
    "    if partID==0:\n",
    "        records.next()\n",
    "    reader = csv.reader(records)\n",
    "    for row in reader:\n",
    "        if ((float(row[5])!=0) and float(row[9]!=0)):\n",
    "            if row[1]:\n",
    "                wd = datetime.datetime.strptime(row[1], '%Y-%m-%d %H:%M:%S').weekday()\n",
    "    \n",
    "            p = geom.Point(proj(float(row[5]), float(row[6])))\n",
    "            d = geom.Point(proj(float(row[9]), float(row[10])))\n",
    "            p_potential = index.intersection((p.x,p.y,p.x,p.y))\n",
    "            d_potential = index.intersection((d.x,d.y,d.x,d.y))\n",
    "            p_match = None # The first one match, should be the closest one? No!\n",
    "            d_match = None\n",
    "            \n",
    "            for p_idx in p_potential:\n",
    "                if entr_buf.geometry[p_idx].contains(p):\n",
    "                    p_match = p_idx # print 'p',p_idx\n",
    "                    p_lines = set(entr_buf.entr2line[p_idx])\n",
    "                    break\n",
    "            pick_entr[p_match] = pick_entr.get(p_match, 0)+1\n",
    "            \n",
    "            for d_idx in d_potential:\n",
    "                if entr_buf.geometry[d_idx].contains(d):\n",
    "                    d_match = d_idx # print 'd',d_idx\n",
    "                    d_lines = set(entr_buf.entr2line[d_idx])\n",
    "                    break\n",
    "            drop_entr[d_match] = drop_entr.get(d_match, 0)+1\n",
    "            \n",
    "            if ((p_match and d_match) and (p_match != d_match)):\n",
    "                dirct_lines = tuple(p_lines.intersection(d_lines))\n",
    "                #dirct_lines_wd = zip(dirct_lines, wd)\n",
    "                if dirct_lines:\n",
    "                    entr_lines[dirct_lines] = entr_lines.get(dirct_lines, 0)+1\n",
    "                    #entr_lines[dirct_lines_wd] = entr_lines.get(dirct_lines_wd, 0)+1\n",
    "                if p_match > d_match:\n",
    "                    pair = (d_match, p_match)\n",
    "                else:\n",
    "                    pair = (p_match, d_match)\n",
    "                entr_pair[pair] = entr_pair.get(pair, 0)+1\n",
    "                \n",
    "    return entr_lines.items()\n",
    "    \n",
    "    \n",
    "        "
   ]
  },
  {
   "cell_type": "code",
   "execution_count": 61,
   "metadata": {
    "collapsed": false
   },
   "outputs": [],
   "source": [
    "def mapper(record):\n",
    "    for key in record[0]:\n",
    "        yield key, record[1]\n",
    "        \n",
    "rdd = sc.textFile('./df_shuffle.csv')\n",
    "counts = rdd.mapPartitionsWithIndex(countLine)#.flatMap(mapper).reduceByKey(lambda x,y: x+y).collect()  "
   ]
  },
  {
   "cell_type": "code",
   "execution_count": 63,
   "metadata": {
    "collapsed": false
   },
   "outputs": [
    {
     "data": {
      "text/plain": [
       "[((u'Q', u'R', u'N'), 1),\n",
       " (('6',), 2),\n",
       " ((u'C',), 1),\n",
       " ((u'F',), 4),\n",
       " (('1',), 6),\n",
       " (('1', '3', '2'), 1),\n",
       " ((u'L',), 2),\n",
       " ((u'A', u'C', u'E'), 1),\n",
       " ((u'E', u'M'), 1),\n",
       " ((u'Q', u'R', u'N'), 3),\n",
       " (('6',), 4),\n",
       " ((u'N', u'Q', u'R', '5', '4', '6'), 1),\n",
       " ((u'M',), 1),\n",
       " ((u'C', u'E'), 2),\n",
       " (('1',), 5),\n",
       " ((u'A', '1', u'C'), 1),\n",
       " ((u'C',), 1),\n",
       " (('1', '3', '2'), 4),\n",
       " ((u'L',), 1),\n",
       " ((u'A', '1', u'C', u'B', u'D'), 1),\n",
       " ((u'A', u'C', '2', '3'), 1),\n",
       " ((u'A', u'C', u'E'), 3),\n",
       " (('7',), 2)]"
      ]
     },
     "execution_count": 63,
     "metadata": {},
     "output_type": "execute_result"
    }
   ],
   "source": [
    "counts.collect()"
   ]
  },
  {
   "cell_type": "code",
   "execution_count": 14,
   "metadata": {
    "collapsed": false
   },
   "outputs": [],
   "source": [
    "def mapper(record):\n",
    "    for key in record[0]:\n",
    "        yield key, record[1]\n",
    "\n",
    "#rdd = sc.textFile('./yellow_tripdata_2016-01.csv')\n",
    "counts = rdd.mapPartitionsWithIndex(countLine).flatMap(mapper).reduceByKey(lambda x,y: x+y).collect()  "
   ]
  },
  {
   "cell_type": "code",
   "execution_count": 17,
   "metadata": {
    "collapsed": false
   },
   "outputs": [
    {
     "data": {
      "text/plain": [
       "[('1', 11795),\n",
       " (u'C', 8512),\n",
       " (u'E', 6547),\n",
       " ('6', 6464),\n",
       " (u'R', 6334),\n",
       " (u'F', 5823),\n",
       " (u'N', 5601),\n",
       " (u'M', 5282),\n",
       " (u'B', 4717),\n",
       " ('2', 4557),\n",
       " ('3', 4547),\n",
       " (u'A', 4421),\n",
       " (u'Q', 4300),\n",
       " (u'D', 3290),\n",
       " ('7', 2472),\n",
       " (u'L', 1507),\n",
       " ('5', 1270),\n",
       " ('4', 1256),\n",
       " (u'J', 422),\n",
       " (u'Z', 351),\n",
       " (u'GS', 191),\n",
       " (u'S', 182),\n",
       " (u'G', 105)]"
      ]
     },
     "execution_count": 17,
     "metadata": {},
     "output_type": "execute_result"
    }
   ],
   "source": [
    "sorted(counts, key=lambda x: x[1], reverse=True)"
   ]
  },
  {
   "cell_type": "markdown",
   "metadata": {},
   "source": [
    "![](http://web.mta.info/maps/images/subway_map_2400x2946opt.jpg)"
   ]
  }
 ],
 "metadata": {
  "anaconda-cloud": {},
  "kernelspec": {
   "display_name": "Python [default]",
   "language": "python",
   "name": "python2"
  },
  "language_info": {
   "codemirror_mode": {
    "name": "ipython",
    "version": 2
   },
   "file_extension": ".py",
   "mimetype": "text/x-python",
   "name": "python",
   "nbconvert_exporter": "python",
   "pygments_lexer": "ipython2",
   "version": "2.7.12"
  }
 },
 "nbformat": 4,
 "nbformat_minor": 1
}
