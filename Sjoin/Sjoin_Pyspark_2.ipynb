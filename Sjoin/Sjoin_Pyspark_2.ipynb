{
 "cells": [
  {
   "cell_type": "markdown",
   "metadata": {},
   "source": [
    "## yellow_tripdata_2016-01.csv\n",
    "### 1.6 G"
   ]
  },
  {
   "cell_type": "code",
   "execution_count": 1,
   "metadata": {
    "collapsed": false
   },
   "outputs": [
    {
     "data": {
      "text/plain": [
       "<pyspark.context.SparkContext at 0x10bacf610>"
      ]
     },
     "execution_count": 1,
     "metadata": {},
     "output_type": "execute_result"
    }
   ],
   "source": [
    "sc"
   ]
  },
  {
   "cell_type": "code",
   "execution_count": 2,
   "metadata": {
    "collapsed": true
   },
   "outputs": [],
   "source": [
    "import pyproj\n",
    "import csv\n",
    "import shapely.geometry as geom\n",
    "import fiona\n",
    "import fiona.crs\n",
    "import shapely\n",
    "import rtree\n",
    "import geopandas as gpd\n",
    "import numpy as np\n",
    "import operator\n",
    "# just for display, not for calculation\n",
    "import pandas as pd"
   ]
  },
  {
   "cell_type": "markdown",
   "metadata": {},
   "source": [
    "# Function"
   ]
  },
  {
   "cell_type": "code",
   "execution_count": 12,
   "metadata": {
    "collapsed": true
   },
   "outputs": [],
   "source": [
    "def countLine(partID, records):\n",
    "    import pyproj\n",
    "    import csv\n",
    "    import shapely.geometry as geom\n",
    "    import fiona\n",
    "    import fiona.crs\n",
    "    import shapely\n",
    "    import rtree\n",
    "    import geopandas as gpd\n",
    "    import numpy as np\n",
    "    import operator\n",
    "    import pandas as pd\n",
    "    \n",
    "    shapefile = './why_yellow_taxi/Buffer/entr_buffer_100_feet_epsg4269_nad83/entr_buffer_100_feet_epsg4269_nad83.shp'\n",
    "    entr_buf = gpd.read_file(shapefile)\n",
    "    entr_buf = entr_buf.to_crs(fiona.crs.from_epsg(2263))\n",
    "    \n",
    "    routes = ['Route_' + str(n) for n in range(1, 12)]\n",
    "    entr2line = []\n",
    "    for i in xrange(len(entr_buf)):\n",
    "        lines = []\n",
    "        for line in list(entr_buf.loc[:,routes].ix[i].dropna().values):\n",
    "            try:\n",
    "                line = str(int(line))\n",
    "            except ValueError:\n",
    "                pass\n",
    "            lines.append(line)\n",
    "        entr2line.append(lines)\n",
    "    entr_buf['entr2line'] = entr2line\n",
    "    \n",
    "    index = rtree.Rtree()\n",
    "    for idx, geometry in enumerate(entr_buf.geometry):\n",
    "        index.insert(idx, geometry.bounds)\n",
    "    \n",
    "\n",
    "    entr_pair = {}\n",
    "    pick_entr = {}\n",
    "    drop_entr = {}\n",
    "    entr_lines = {}\n",
    "    \n",
    "    proj = pyproj.Proj(init='epsg:2263', preserve_units=True)\n",
    "    \n",
    "    if partID==0:\n",
    "        records.next()\n",
    "    reader = csv.reader(records)\n",
    "    for row in reader:\n",
    "        if ((float(row[5])!=0) and float(row[9]!=0)):\n",
    "            p = geom.Point(proj(float(row[5]), float(row[6])))\n",
    "            d = geom.Point(proj(float(row[9]), float(row[10])))\n",
    "            p_potential = index.intersection((p.x,p.y,p.x,p.y))\n",
    "            d_potential = index.intersection((d.x,d.y,d.x,d.y))\n",
    "            p_match = None # The first one match, should be the closest one? No!\n",
    "            d_match = None\n",
    "            \n",
    "            for p_idx in p_potential:\n",
    "                if entr_buf.geometry[p_idx].contains(p):\n",
    "                    p_match = p_idx # print 'p',p_idx\n",
    "                    p_lines = set(entr_buf.entr2line[p_idx])\n",
    "                    break\n",
    "            pick_entr[p_match] = pick_entr.get(p_match, 0)+1\n",
    "            \n",
    "            for d_idx in d_potential:\n",
    "                if entr_buf.geometry[d_idx].contains(d):\n",
    "                    d_match = d_idx # print 'd',d_idx\n",
    "                    d_lines = set(entr_buf.entr2line[d_idx])\n",
    "                    break\n",
    "            drop_entr[d_match] = drop_entr.get(d_match, 0)+1\n",
    "            \n",
    "            if ((p_match and d_match) and (p_match != d_match)):\n",
    "                dirct_lines = tuple(p_lines.intersection(d_lines))\n",
    "                if dirct_lines:\n",
    "                    entr_lines[dirct_lines] = entr_lines.get(dirct_lines, 0)+1\n",
    "                if p_match > d_match:\n",
    "                    pair = (d_match, p_match)\n",
    "                else:\n",
    "                    pair = (p_match, d_match)\n",
    "                entr_pair[pair] = entr_pair.get(pair, 0)+1\n",
    "                \n",
    "    return entr_lines.items()\n",
    "    \n",
    "    \n",
    "        "
   ]
  },
  {
   "cell_type": "code",
   "execution_count": 14,
   "metadata": {
    "collapsed": false
   },
   "outputs": [],
   "source": [
    "def mapper(record):\n",
    "    for key in record[0]:\n",
    "        yield key, record[1]\n",
    "\n",
    "rdd = sc.textFile('./yellow_tripdata_2016-01.csv')\n",
    "counts = rdd.mapPartitionsWithIndex(countLine).flatMap(mapper).reduceByKey(lambda x,y: x+y).collect()  "
   ]
  },
  {
   "cell_type": "code",
   "execution_count": 17,
   "metadata": {
    "collapsed": false
   },
   "outputs": [
    {
     "data": {
      "text/plain": [
       "[('1', 11795),\n",
       " (u'C', 8512),\n",
       " (u'E', 6547),\n",
       " ('6', 6464),\n",
       " (u'R', 6334),\n",
       " (u'F', 5823),\n",
       " (u'N', 5601),\n",
       " (u'M', 5282),\n",
       " (u'B', 4717),\n",
       " ('2', 4557),\n",
       " ('3', 4547),\n",
       " (u'A', 4421),\n",
       " (u'Q', 4300),\n",
       " (u'D', 3290),\n",
       " ('7', 2472),\n",
       " (u'L', 1507),\n",
       " ('5', 1270),\n",
       " ('4', 1256),\n",
       " (u'J', 422),\n",
       " (u'Z', 351),\n",
       " (u'GS', 191),\n",
       " (u'S', 182),\n",
       " (u'G', 105)]"
      ]
     },
     "execution_count": 17,
     "metadata": {},
     "output_type": "execute_result"
    }
   ],
   "source": [
    "sorted(counts, key=lambda x: x[1], reverse=True)"
   ]
  },
  {
   "cell_type": "markdown",
   "metadata": {},
   "source": [
    "![](http://web.mta.info/maps/images/subway_map_2400x2946opt.jpg)"
   ]
  }
 ],
 "metadata": {
  "anaconda-cloud": {},
  "kernelspec": {
   "display_name": "Python [default]",
   "language": "python",
   "name": "python2"
  },
  "language_info": {
   "codemirror_mode": {
    "name": "ipython",
    "version": 2
   },
   "file_extension": ".py",
   "mimetype": "text/x-python",
   "name": "python",
   "nbconvert_exporter": "python",
   "pygments_lexer": "ipython2",
   "version": "2.7.13"
  }
 },
 "nbformat": 4,
 "nbformat_minor": 1
}
