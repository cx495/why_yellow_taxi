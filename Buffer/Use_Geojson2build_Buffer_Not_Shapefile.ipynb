{
 "cells": [
  {
   "cell_type": "code",
   "execution_count": 1,
   "metadata": {
    "collapsed": false
   },
   "outputs": [
    {
     "data": {
      "text/plain": [
       "<pyspark.context.SparkContext at 0x1053a0b90>"
      ]
     },
     "execution_count": 1,
     "metadata": {},
     "output_type": "execute_result"
    }
   ],
   "source": [
    "sc"
   ]
  },
  {
   "cell_type": "markdown",
   "metadata": {},
   "source": [
    "## This Notebool is Mainly to Check the Buffer built from Entrances .shp (previously) and from geojson (.json) in most recent Dumbo-Can-Run scripts."
   ]
  },
  {
   "cell_type": "markdown",
   "metadata": {},
   "source": [
    "## Load"
   ]
  },
  {
   "cell_type": "code",
   "execution_count": 2,
   "metadata": {
    "collapsed": true
   },
   "outputs": [],
   "source": [
    "from shapely.geometry import Point\n",
    "import pyproj\n",
    "import geopandas as gpd\n",
    "proj = pyproj.Proj(init='epsg:2263', preserve_units=True)\n",
    "\n",
    "entr_points = sqlContext.read.load('../why_yellow_taxi/Data/2016_(May)_New_York_City_Subway_Station_Entrances.json', \\\n",
    "                                format='json', header=True, inferSchema=True).collect()[0].asDict()['features']\n",
    "routes = ['route_'+str(i) for i in range(1,12)]\n",
    "entr_geo = gpd.GeoDataFrame(columns=['geometry', 'lines'])\n",
    "\n",
    "\n",
    "for i in range(len(entr_points)):\n",
    "    entr_coor = entr_points[i].asDict()['geometry'].asDict()['coordinates']\n",
    "    entr_buffer = Point(proj(float(entr_coor[0]), float(entr_coor[1]))).buffer(100)\n",
    "    entr_prop = entr_points[i].asDict()['properties'].asDict()\n",
    "    entr_lines = [entr_prop[r] for r in routes if entr_prop[r]]\n",
    "    entr_geo = entr_geo.append({'geometry':entr_buffer, 'lines':entr_lines}, ignore_index=True)"
   ]
  },
  {
   "cell_type": "code",
   "execution_count": 3,
   "metadata": {
    "collapsed": true
   },
   "outputs": [],
   "source": [
    "shp = gpd.read_file('../why_yellow_taxi/Buffer/entr_buffer_100_feet_epsg4269_nad83/entr_buffer_100_feet_epsg4269_nad83.shp')"
   ]
  },
  {
   "cell_type": "markdown",
   "metadata": {},
   "source": [
    "## List"
   ]
  },
  {
   "cell_type": "code",
   "execution_count": 4,
   "metadata": {
    "collapsed": false
   },
   "outputs": [
    {
     "data": {
      "text/html": [
       "<div>\n",
       "<table border=\"1\" class=\"dataframe\">\n",
       "  <thead>\n",
       "    <tr style=\"text-align: right;\">\n",
       "      <th></th>\n",
       "      <th>geometry</th>\n",
       "      <th>lines</th>\n",
       "    </tr>\n",
       "  </thead>\n",
       "  <tbody>\n",
       "    <tr>\n",
       "      <th>0</th>\n",
       "      <td>POLYGON ((1008702.708067201 221696.7163773214,...</td>\n",
       "      <td>[N, Q]</td>\n",
       "    </tr>\n",
       "    <tr>\n",
       "      <th>1</th>\n",
       "      <td>POLYGON ((1008681.505385148 221573.1859670931,...</td>\n",
       "      <td>[N, Q]</td>\n",
       "    </tr>\n",
       "  </tbody>\n",
       "</table>\n",
       "</div>"
      ],
      "text/plain": [
       "                                            geometry   lines\n",
       "0  POLYGON ((1008702.708067201 221696.7163773214,...  [N, Q]\n",
       "1  POLYGON ((1008681.505385148 221573.1859670931,...  [N, Q]"
      ]
     },
     "execution_count": 4,
     "metadata": {},
     "output_type": "execute_result"
    }
   ],
   "source": [
    "entr_geo.head(2)"
   ]
  },
  {
   "cell_type": "code",
   "execution_count": 5,
   "metadata": {
    "collapsed": false
   },
   "outputs": [
    {
     "data": {
      "text/html": [
       "<div>\n",
       "<table border=\"1\" class=\"dataframe\">\n",
       "  <thead>\n",
       "    <tr style=\"text-align: right;\">\n",
       "      <th></th>\n",
       "      <th>ADA</th>\n",
       "      <th>ADA_Notes</th>\n",
       "      <th>Corner</th>\n",
       "      <th>Division</th>\n",
       "      <th>East_West_</th>\n",
       "      <th>Entrance_T</th>\n",
       "      <th>Entry</th>\n",
       "      <th>Exit_Only</th>\n",
       "      <th>Free_Cross</th>\n",
       "      <th>GEOID</th>\n",
       "      <th>...</th>\n",
       "      <th>Route_7</th>\n",
       "      <th>Route_8</th>\n",
       "      <th>Route_9</th>\n",
       "      <th>Staff_Hour</th>\n",
       "      <th>Staffing</th>\n",
       "      <th>Station_La</th>\n",
       "      <th>Station_Lo</th>\n",
       "      <th>Station_Na</th>\n",
       "      <th>Vending</th>\n",
       "      <th>geometry</th>\n",
       "    </tr>\n",
       "  </thead>\n",
       "  <tbody>\n",
       "    <tr>\n",
       "      <th>0</th>\n",
       "      <td>FALSE</td>\n",
       "      <td>None</td>\n",
       "      <td>NW</td>\n",
       "      <td>BMT</td>\n",
       "      <td>23rd Ave</td>\n",
       "      <td>Stair</td>\n",
       "      <td>YES</td>\n",
       "      <td>None</td>\n",
       "      <td>TRUE</td>\n",
       "      <td>36081</td>\n",
       "      <td>...</td>\n",
       "      <td>None</td>\n",
       "      <td>NaN</td>\n",
       "      <td>NaN</td>\n",
       "      <td>None</td>\n",
       "      <td>FULL</td>\n",
       "      <td>40.775036</td>\n",
       "      <td>-73.912034</td>\n",
       "      <td>Ditmars Blvd</td>\n",
       "      <td>YES</td>\n",
       "      <td>POLYGON ((1008702.708067201 221696.7163773818,...</td>\n",
       "    </tr>\n",
       "    <tr>\n",
       "      <th>1</th>\n",
       "      <td>FALSE</td>\n",
       "      <td>None</td>\n",
       "      <td>NE</td>\n",
       "      <td>BMT</td>\n",
       "      <td>23rd Ave</td>\n",
       "      <td>Stair</td>\n",
       "      <td>YES</td>\n",
       "      <td>None</td>\n",
       "      <td>TRUE</td>\n",
       "      <td>36081</td>\n",
       "      <td>...</td>\n",
       "      <td>None</td>\n",
       "      <td>NaN</td>\n",
       "      <td>NaN</td>\n",
       "      <td>None</td>\n",
       "      <td>FULL</td>\n",
       "      <td>40.775036</td>\n",
       "      <td>-73.912034</td>\n",
       "      <td>Ditmars Blvd</td>\n",
       "      <td>YES</td>\n",
       "      <td>POLYGON ((1008681.505385144 221573.1859671536,...</td>\n",
       "    </tr>\n",
       "  </tbody>\n",
       "</table>\n",
       "<p>2 rows × 33 columns</p>\n",
       "</div>"
      ],
      "text/plain": [
       "     ADA ADA_Notes Corner Division East_West_ Entrance_T Entry Exit_Only  \\\n",
       "0  FALSE      None     NW      BMT   23rd Ave      Stair   YES      None   \n",
       "1  FALSE      None     NE      BMT   23rd Ave      Stair   YES      None   \n",
       "\n",
       "  Free_Cross  GEOID                        ...                          \\\n",
       "0       TRUE  36081                        ...                           \n",
       "1       TRUE  36081                        ...                           \n",
       "\n",
       "   Route_7 Route_8  Route_9 Staff_Hour Staffing Station_La  Station_Lo  \\\n",
       "0     None     NaN      NaN       None     FULL  40.775036  -73.912034   \n",
       "1     None     NaN      NaN       None     FULL  40.775036  -73.912034   \n",
       "\n",
       "     Station_Na Vending                                           geometry  \n",
       "0  Ditmars Blvd     YES  POLYGON ((1008702.708067201 221696.7163773818,...  \n",
       "1  Ditmars Blvd     YES  POLYGON ((1008681.505385144 221573.1859671536,...  \n",
       "\n",
       "[2 rows x 33 columns]"
      ]
     },
     "execution_count": 5,
     "metadata": {},
     "output_type": "execute_result"
    }
   ],
   "source": [
    "shp.head(2)"
   ]
  },
  {
   "cell_type": "markdown",
   "metadata": {},
   "source": [
    "## Identical or Not?"
   ]
  },
  {
   "cell_type": "code",
   "execution_count": 6,
   "metadata": {
    "collapsed": false
   },
   "outputs": [
    {
     "data": {
      "text/plain": [
       "False"
      ]
     },
     "execution_count": 6,
     "metadata": {},
     "output_type": "execute_result"
    }
   ],
   "source": [
    "entr_geo.head(2).geometry[1]  == shp.head(2).geometry[1]"
   ]
  },
  {
   "cell_type": "markdown",
   "metadata": {},
   "source": [
    "## Detail"
   ]
  },
  {
   "cell_type": "code",
   "execution_count": 7,
   "metadata": {
    "collapsed": false
   },
   "outputs": [
    {
     "data": {
      "text/plain": [
       "1008602.7080672013"
      ]
     },
     "execution_count": 7,
     "metadata": {},
     "output_type": "execute_result"
    }
   ],
   "source": [
    "shp.head(2).geometry[0].centroid.x"
   ]
  },
  {
   "cell_type": "code",
   "execution_count": 8,
   "metadata": {
    "collapsed": false
   },
   "outputs": [
    {
     "data": {
      "text/plain": [
       "221696.71637738176"
      ]
     },
     "execution_count": 8,
     "metadata": {},
     "output_type": "execute_result"
    }
   ],
   "source": [
    "shp.head(2).geometry[0].centroid.y"
   ]
  },
  {
   "cell_type": "code",
   "execution_count": 9,
   "metadata": {
    "collapsed": false
   },
   "outputs": [
    {
     "data": {
      "text/plain": [
       "1008602.7080672013"
      ]
     },
     "execution_count": 9,
     "metadata": {},
     "output_type": "execute_result"
    }
   ],
   "source": [
    "entr_geo.head(2).geometry[0].centroid.x"
   ]
  },
  {
   "cell_type": "code",
   "execution_count": 10,
   "metadata": {
    "collapsed": false
   },
   "outputs": [
    {
     "data": {
      "text/plain": [
       "221696.71637732137"
      ]
     },
     "execution_count": 10,
     "metadata": {},
     "output_type": "execute_result"
    }
   ],
   "source": [
    "entr_geo.head(2).geometry[0].centroid.y"
   ]
  },
  {
   "cell_type": "markdown",
   "metadata": {},
   "source": [
    "##  Because there are slight differences of geo-locations between two buffer lists, Here we Take **'geojson'** Version for furthur study."
   ]
  },
  {
   "cell_type": "markdown",
   "metadata": {},
   "source": [
    "<br/>\n",
    "## Use '2016_(May)_New_York_City_Subway_Station_Entrances.json'"
   ]
  },
  {
   "cell_type": "markdown",
   "metadata": {},
   "source": [
    "<br/>\n",
    "## Not '2016_(May)_New_York_City_Subway_Station_Entrances.zip'"
   ]
  }
 ],
 "metadata": {
  "anaconda-cloud": {},
  "kernelspec": {
   "display_name": "Python [default]",
   "language": "python",
   "name": "python2"
  },
  "language_info": {
   "codemirror_mode": {
    "name": "ipython",
    "version": 2
   },
   "file_extension": ".py",
   "mimetype": "text/x-python",
   "name": "python",
   "nbconvert_exporter": "python",
   "pygments_lexer": "ipython2",
   "version": "2.7.12"
  }
 },
 "nbformat": 4,
 "nbformat_minor": 1
}
